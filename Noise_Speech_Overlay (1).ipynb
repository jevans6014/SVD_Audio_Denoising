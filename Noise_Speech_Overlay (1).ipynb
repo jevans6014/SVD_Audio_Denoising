{
  "nbformat": 4,
  "nbformat_minor": 0,
  "metadata": {
    "colab": {
      "provenance": []
    },
    "kernelspec": {
      "name": "python3",
      "display_name": "Python 3"
    },
    "language_info": {
      "name": "python"
    }
  },
  "cells": [
    {
      "cell_type": "code",
      "execution_count": null,
      "metadata": {
        "colab": {
          "base_uri": "https://localhost:8080/"
        },
        "id": "TCI2ZXxnjs1r",
        "outputId": "be47c2e2-b47f-4842-a1db-399917aa8266"
      },
      "outputs": [
        {
          "output_type": "stream",
          "name": "stdout",
          "text": [
            "Requirement already satisfied: numpy in /usr/local/lib/python3.10/dist-packages (1.26.4)\n",
            "Requirement already satisfied: soundfile in /usr/local/lib/python3.10/dist-packages (0.12.1)\n",
            "Requirement already satisfied: cffi>=1.0 in /usr/local/lib/python3.10/dist-packages (from soundfile) (1.17.1)\n",
            "Requirement already satisfied: pycparser in /usr/local/lib/python3.10/dist-packages (from cffi>=1.0->soundfile) (2.22)\n"
          ]
        }
      ],
      "source": [
        "!pip install numpy soundfile\n"
      ]
    },
    {
      "cell_type": "code",
      "source": [
        "import numpy as np\n",
        "import soundfile as sf\n",
        "import os\n"
      ],
      "metadata": {
        "id": "J-aMT-IYkB-R"
      },
      "execution_count": null,
      "outputs": []
    },
    {
      "cell_type": "code",
      "source": [
        "def load_audio(pth):\n",
        "    x, sr = sf.read(pth)\n",
        "    return x, sr\n",
        "\n",
        "def save_audio(x, sr, out_pth):\n",
        "    sf.write(out_pth, x, sr)\n",
        "\n",
        "# blend noise into clean speech at some SNR\n",
        "def mix_snr(clean, noise, snr_val):\n",
        "    if noise.ndim == 1 and clean.ndim == 2:\n",
        "        noise = np.stack([noise] * clean.shape[1], axis=1)\n",
        "    elif noise.ndim == 2 and clean.ndim == 1:\n",
        "        clean = np.stack([clean] * noise.shape[1], axis=1)\n",
        "\n",
        "    rms_c = np.sqrt(np.mean(clean ** 2))\n",
        "    rms_n = np.sqrt(np.mean(noise ** 2))\n",
        "\n",
        "    # scale noise to match target SNR\n",
        "    scale = rms_c / (10 ** (snr_val / 20))\n",
        "    noise = noise * (scale / rms_n)\n",
        "\n",
        "    mixed = clean + noise\n",
        "    return clean, noise, mixed\n",
        "\n",
        "# toss noise onto a speech file at different SNRs\n",
        "def apply_noise(speech_path, noise_paths, snr_list, out_dir):\n",
        "    os.makedirs(out_dir, exist_ok=True)\n",
        "\n",
        "    speech, sr = load_audio(speech_path)\n",
        "\n",
        "    for n_path in noise_paths:\n",
        "        noise, _ = load_audio(n_path)\n",
        "\n",
        "        # loop it if it's shorter\n",
        "        if len(noise) < len(speech):\n",
        "            reps = int(np.ceil(len(speech) / len(noise)))\n",
        "            noise = np.tile(noise, reps)[:len(speech)]\n",
        "        else:\n",
        "            noise = noise[:len(speech)]\n",
        "\n",
        "        for snr in snr_list:\n",
        "            c, n, mix = mix_snr(speech, noise, snr)\n",
        "\n",
        "            speech_tag = os.path.basename(speech_path).split('.')[0]\n",
        "            noise_tag = os.path.basename(n_path).split('.')[0]\n",
        "            fname = f\"{speech_tag}_w_{noise_tag}_{snr}dB.wav\"\n",
        "\n",
        "            out_path = os.path.join(out_dir, fname)\n",
        "            save_audio(mix, sr, out_path)\n",
        "\n",
        "            print(f\"saved it -> {out_path}\")\n",
        "\n",
        "# paths and stuff\n",
        "clean_path = '/content/drive/MyDrive/SongProcessing/CleanSongsVocals/familyAffair_vocals.wav'\n",
        "\n",
        "noise_paths = [\n",
        "    '/content/drive/MyDrive/SpeechProcessing/Noise/AirConditioner_1.wav',\n",
        "    '/content/drive/MyDrive/SpeechProcessing/Noise/Babble_8.wav',\n",
        "    '/content/drive/MyDrive/SpeechProcessing/Noise/Munching_4.wav',\n",
        "    '/content/drive/MyDrive/SpeechProcessing/Noise/Typing_3.wav',\n",
        "    '/content/drive/MyDrive/SpeechProcessing/Noise/VacuumCleaner_3.wav'\n",
        "]\n",
        "\n",
        "snrs = [30, 20, 10, 5, 0]\n",
        "\n",
        "out_folder = '/content/drive/MyDrive/SongProcessing/familyAffair_Noisy'\n",
        "\n",
        "# run\n",
        "apply_noise(clean_path, noise_paths, snrs, out_folder)\n"
      ],
      "metadata": {
        "id": "ry9AFaexkE7o"
      },
      "execution_count": null,
      "outputs": []
    }
  ]
}